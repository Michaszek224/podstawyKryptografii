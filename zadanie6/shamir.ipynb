{
 "cells": [
  {
   "cell_type": "code",
   "execution_count": 214,
   "id": "31d9678c",
   "metadata": {},
   "outputs": [],
   "source": [
    "import random\n",
    "import sympy"
   ]
  },
  {
   "cell_type": "code",
   "execution_count": 215,
   "id": "e773514d",
   "metadata": {},
   "outputs": [],
   "source": [
    "def samirTrywialny(s, k= 10_000, n=10):\n",
    "    \"\"\" Algorytm Samira Trywialny \"\"\"\n",
    "\n",
    "    #generowanie udziałów\n",
    "    udzialy = []\n",
    "    for i in range(n- 1):\n",
    "        udzialy.append(random.randint(1, k))\n",
    "\n",
    "    #obliczanie sn ostatniego udziału\n",
    "    sn = s\n",
    "    for i in udzialy:\n",
    "        # print(f\"sn= {sn}, i={i}, sn-i={sn-i}\")\n",
    "        sn -= i\n",
    "    sn = sn % k\n",
    "    udzialy.append(sn)\n",
    "\n",
    "    return udzialy"
   ]
  },
  {
   "cell_type": "code",
   "execution_count": 216,
   "id": "af430d98",
   "metadata": {},
   "outputs": [],
   "source": [
    "def odtwarzanieSamirTrywialny(udzialy, k):\n",
    "    sekret = 0\n",
    "    for i in udzialy:\n",
    "        sekret += i\n",
    "    sekret %= k\n",
    "    return sekret"
   ]
  },
  {
   "cell_type": "code",
   "execution_count": 217,
   "id": "3fe15322",
   "metadata": {},
   "outputs": [
    {
     "name": "stdout",
     "output_type": "stream",
     "text": [
      "pierwotny sekret= 6057\n",
      "Odtworzony= 6057\n",
      "Czy są równe? True\n"
     ]
    }
   ],
   "source": [
    "#trywialne podejście\n",
    "k = 10_000\n",
    "s = random.randint(1,k)\n",
    "udzialy = samirTrywialny(s, k= k, n= 10)\n",
    "sekret = odtwarzanieSamirTrywialny(udzialy, k)\n",
    "print(f\"pierwotny sekret= {s}\\nOdtworzony= {sekret}\\nCzy są równe? {s==sekret}\")"
   ]
  },
  {
   "cell_type": "code",
   "execution_count": 218,
   "id": "3045e666",
   "metadata": {},
   "outputs": [],
   "source": [
    "def samir(p, s, n, t):\n",
    "\n",
    "    a = []\n",
    "    for _ in range(t-1):\n",
    "        a.append(random.randint(1, p-1))\n",
    "    udzialy = []\n",
    "\n",
    "    #pętla dla każdego udziału\n",
    "    for x in range(1, n+1):\n",
    "        si = s\n",
    "        #obliczanie wartości wielomianu\n",
    "        for j in range(1, t):\n",
    "            si = (si + a[j-1] * pow(x, j, p)) % p\n",
    "\n",
    "        udzialy.append([x, si])\n",
    "\n",
    "    return udzialy"
   ]
  },
  {
   "cell_type": "code",
   "execution_count": null,
   "id": "7bec473a",
   "metadata": {},
   "outputs": [],
   "source": [
    "def samirOdkodowanie(udzialy, p):\n",
    "    sekret = 0\n",
    "    t = len(udzialy)\n",
    "\n",
    "    for i in range(t):\n",
    "        xi, si= udzialy[i]\n",
    "        temp = 1\n",
    "\n",
    "        for j in range(t):\n",
    "            if i == j:\n",
    "                continue\n",
    "            xj, _ = udzialy[j]\n",
    "\n",
    "            inv = pow(xj - xi, -1, p)      # odwrotność (xj - xi) mod p\n",
    "            temp = (temp * xj * inv) % p\n",
    "\n",
    "        sekret += si * temp % p\n",
    "    return sekret"
   ]
  },
  {
   "cell_type": "code",
   "execution_count": 220,
   "id": "4c647eeb",
   "metadata": {},
   "outputs": [
    {
     "name": "stdout",
     "output_type": "stream",
     "text": [
      "pierwotny sekret= 838\n",
      "Odtworzony= 12503\n",
      "Czy są równe? False\n"
     ]
    }
   ],
   "source": [
    "p = sympy.randprime(10**3, 10**4) #generowanei liczby pierwszej\n",
    "n = 10 #liczba udziałów\n",
    "t = 5 #wymagagna liczba udziałów\n",
    "s = random.randint(1, p-1) #sekret\n",
    "\n",
    "udzialy = samir(p, s, n, t)\n",
    "sekret = samirOdkodowanie(udzialy, p)\n",
    "print(f\"pierwotny sekret= {s}\\nOdtworzony= {sekret}\\nCzy są równe? {s==sekret}\")"
   ]
  }
 ],
 "metadata": {
  "kernelspec": {
   "display_name": "Python 3",
   "language": "python",
   "name": "python3"
  },
  "language_info": {
   "codemirror_mode": {
    "name": "ipython",
    "version": 3
   },
   "file_extension": ".py",
   "mimetype": "text/x-python",
   "name": "python",
   "nbconvert_exporter": "python",
   "pygments_lexer": "ipython3",
   "version": "3.13.2"
  }
 },
 "nbformat": 4,
 "nbformat_minor": 5
}
